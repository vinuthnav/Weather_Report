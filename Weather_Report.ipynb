{
 "cells": [
  {
   "cell_type": "code",
   "execution_count": 1,
   "id": "ce3358f2-df95-43e4-93f0-f624745902ef",
   "metadata": {},
   "outputs": [],
   "source": [
    "import requests"
   ]
  },
  {
   "cell_type": "code",
   "execution_count": null,
   "id": "ca4d2752-c8d5-4b10-99d1-fd01565a19aa",
   "metadata": {},
   "outputs": [],
   "source": [
    "def get_weather(city_name):\n",
    "    API_KEY=\"519445a95de7b9c8f776f54a5e5e7466\"\n",
    "    BASE_URL=\"http://api.openweathermap.org/data/2.5/weather\"\n",
    "    params={\n",
    "        \"q\":city_name,\n",
    "        \"appid\":API_KEY,\n",
    "        \"units\":\"metric\"\n",
    "    }\n",
    "    try:\n",
    "        response=requests.get(BASE_URL,params=params)\n",
    "        response.raise_for_status()\n",
    "        data=response.json()\n",
    "        temperature=data[\"main\"][\"temp\"]\n",
    "        weather_description=data[\"weather\"][0][\"description\"]\n",
    "        city=data[\"name\"]\n",
    "        country=data[\"sys\"][\"country\"]\n",
    "        print(f\"Weather in {city},{country}:\")\n",
    "        print(f\"Temperature:{temperature} C\")\n",
    "        print(f\"Condition:{weather_description.capitalize()}\")\n",
    "    except requests.exceptions.RequestException as e:\n",
    "        print(f\"An error occurred:{e}\")\n",
    "        "
   ]
  }
 ],
 "metadata": {
  "kernelspec": {
   "display_name": "Python 3 (ipykernel)",
   "language": "python",
   "name": "python3"
  },
  "language_info": {
   "codemirror_mode": {
    "name": "ipython",
    "version": 3
   },
   "file_extension": ".py",
   "mimetype": "text/x-python",
   "name": "python",
   "nbconvert_exporter": "python",
   "pygments_lexer": "ipython3",
   "version": "3.12.7"
  }
 },
 "nbformat": 4,
 "nbformat_minor": 5
}
